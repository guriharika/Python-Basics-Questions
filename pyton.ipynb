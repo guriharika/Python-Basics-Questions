{
 "cells": [
  {
   "cell_type": "markdown",
   "id": "567580e0-3dc2-420d-a509-7f8b90f252fe",
   "metadata": {},
   "source": [
    "1.write a pyton program to print \"hello world\"\n"
   ]
  },
  {
   "cell_type": "code",
   "execution_count": 5,
   "id": "94df646f-1512-461b-ac77-e5e2054f092c",
   "metadata": {},
   "outputs": [
    {
     "name": "stdout",
     "output_type": "stream",
     "text": [
      "hello_world\n"
     ]
    }
   ],
   "source": [
    "print(\"hello_world\")"
   ]
  },
  {
   "cell_type": "raw",
   "id": "4ce93f0e-0db8-43fa-85f6-535ffd1d8716",
   "metadata": {},
   "source": [
    "2.write a pyton program that display your name and age."
   ]
  },
  {
   "cell_type": "code",
   "execution_count": 15,
   "id": "d94c4204-0a48-4fb7-9a86-0284731a14e6",
   "metadata": {},
   "outputs": [
    {
     "name": "stdout",
     "output_type": "stream",
     "text": [
      "Name: gurwinder\n",
      "Age: 22\n"
     ]
    }
   ],
   "source": [
    "Name=\"gurwinder\"\n",
    "Age=22\n",
    "print(\"Name:\",Name)\n",
    "print(\"Age:\",Age)"
   ]
  },
  {
   "cell_type": "raw",
   "id": "7b61b4ff-2c29-40a5-87ea-ab7055c34969",
   "metadata": {},
   "source": [
    "3.write a code to print all the predefined keywords in pyton using the keyword libary."
   ]
  },
  {
   "cell_type": "code",
   "execution_count": 29,
   "id": "c9471977-6b45-42e6-a084-03ad88272c2c",
   "metadata": {},
   "outputs": [
    {
     "name": "stdout",
     "output_type": "stream",
     "text": [
      "['False', 'None', 'True', 'and', 'as', 'assert', 'async', 'await', 'break', 'class', 'continue', 'def', 'del', 'elif', 'else', 'except', 'finally', 'for', 'from', 'global', 'if', 'import', 'in', 'is', 'lambda', 'nonlocal', 'not', 'or', 'pass', 'raise', 'return', 'try', 'while', 'with', 'yield']\n"
     ]
    }
   ],
   "source": [
    "import keyword\n",
    "print(keyword.kwlist)"
   ]
  },
  {
   "cell_type": "raw",
   "id": "a448d273-d154-4afd-b22e-eb31865e6b8f",
   "metadata": {},
   "source": [
    "4.write a program that checks if a given word is a pyton keyword."
   ]
  },
  {
   "cell_type": "code",
   "execution_count": 45,
   "id": "1969bc94-9dda-4c2b-ac3d-a0aea473e256",
   "metadata": {},
   "outputs": [
    {
     "name": "stdout",
     "output_type": "stream",
     "text": [
      "False\n",
      "True\n"
     ]
    }
   ],
   "source": [
    "import keyword\n",
    "print(keyword.iskeyword(\"guri\"))\n",
    "print(keyword.iskeyword(\"and\"))\n",
    "      "
   ]
  },
  {
   "cell_type": "raw",
   "id": "ec067d08-1320-42eb-92eb-52742c4275fd",
   "metadata": {},
   "source": [
    "5.write a list and tuple in pyton and demonstrate how attempting to change an element works differently for each."
   ]
  },
  {
   "cell_type": "code",
   "execution_count": 59,
   "id": "b7156751-5390-41f4-8ad9-f22e05f1610f",
   "metadata": {},
   "outputs": [
    {
     "data": {
      "text/plain": [
       "[1, 3, 4, 5]"
      ]
     },
     "execution_count": 59,
     "metadata": {},
     "output_type": "execute_result"
    }
   ],
   "source": [
    "list=[1,3,4,5]\n",
    "list"
   ]
  },
  {
   "cell_type": "raw",
   "id": "bea22083-db40-4ef2-b37f-d358998fc932",
   "metadata": {},
   "source": [
    "here if i want to change"
   ]
  },
  {
   "cell_type": "code",
   "execution_count": 61,
   "id": "25d3ff73-85f0-4586-8d4c-67af13947e24",
   "metadata": {},
   "outputs": [
    {
     "data": {
      "text/plain": [
       "[1, 7, 4, 5]"
      ]
     },
     "execution_count": 61,
     "metadata": {},
     "output_type": "execute_result"
    }
   ],
   "source": [
    "list[1]=7\n",
    "list"
   ]
  },
  {
   "cell_type": "raw",
   "id": "3ad2d725-69c5-4b7d-8bc1-5a8dc6cbae63",
   "metadata": {},
   "source": [
    "now u see i change 3 with 7 because list are mutable "
   ]
  },
  {
   "cell_type": "code",
   "execution_count": 63,
   "id": "eec64eba-0467-4caf-8809-903f94dd35c9",
   "metadata": {},
   "outputs": [
    {
     "data": {
      "text/plain": [
       "(1, 2, 3, 4)"
      ]
     },
     "execution_count": 63,
     "metadata": {},
     "output_type": "execute_result"
    }
   ],
   "source": [
    "tuple=(1,2,3,4)\n",
    "tuple"
   ]
  },
  {
   "cell_type": "raw",
   "id": "2f237e5c-ba32-4e10-a219-86b73618adf6",
   "metadata": {},
   "source": [
    "now if i try to change in tuple i will get error because tuple is imutable"
   ]
  },
  {
   "cell_type": "code",
   "execution_count": 65,
   "id": "1fb817a2-e48f-4580-b515-ddc99efefa7d",
   "metadata": {},
   "outputs": [
    {
     "ename": "TypeError",
     "evalue": "'tuple' object does not support item assignment",
     "output_type": "error",
     "traceback": [
      "\u001b[1;31m---------------------------------------------------------------------------\u001b[0m",
      "\u001b[1;31mTypeError\u001b[0m                                 Traceback (most recent call last)",
      "Cell \u001b[1;32mIn[65], line 1\u001b[0m\n\u001b[1;32m----> 1\u001b[0m \u001b[38;5;28mtuple\u001b[39m[\u001b[38;5;241m1\u001b[39m]\u001b[38;5;241m=\u001b[39m\u001b[38;5;241m8\u001b[39m\n\u001b[0;32m      2\u001b[0m \u001b[38;5;28mtuple\u001b[39m\n",
      "\u001b[1;31mTypeError\u001b[0m: 'tuple' object does not support item assignment"
     ]
    }
   ],
   "source": [
    "tuple[1]=8\n",
    "tuple"
   ]
  },
  {
   "cell_type": "raw",
   "id": "fd90457d-1b7c-4b1f-ad38-62709570c6af",
   "metadata": {},
   "source": [
    "see i face this error "
   ]
  },
  {
   "cell_type": "raw",
   "id": "f4e65596-46d4-44e5-8f16-f0bf17543bfd",
   "metadata": {},
   "source": [
    "question 6 and 7 are same"
   ]
  },
  {
   "cell_type": "raw",
   "id": "521dc603-c042-4ae3-babf-71b3abe62884",
   "metadata": {},
   "source": [
    "8.write a program to demonstrate the use of logical operator"
   ]
  },
  {
   "cell_type": "code",
   "execution_count": 71,
   "id": "5659178b-72ff-4644-9be3-d1a25f547599",
   "metadata": {},
   "outputs": [
    {
     "data": {
      "text/plain": [
       "True"
      ]
     },
     "execution_count": 71,
     "metadata": {},
     "output_type": "execute_result"
    }
   ],
   "source": [
    "a = 5\n",
    "b = 10 \n",
    "c = 15\n",
    "a<b and c>a"
   ]
  },
  {
   "cell_type": "raw",
   "id": "ae221958-97fd-463f-a53f-b9dbaa8161c5",
   "metadata": {},
   "source": [
    "now using or "
   ]
  },
  {
   "cell_type": "code",
   "execution_count": 73,
   "id": "35b8d961-f513-46b1-b7c6-ca8192a758b8",
   "metadata": {},
   "outputs": [
    {
     "data": {
      "text/plain": [
       "True"
      ]
     },
     "execution_count": 73,
     "metadata": {},
     "output_type": "execute_result"
    }
   ],
   "source": [
    "a>b or c>b"
   ]
  },
  {
   "cell_type": "raw",
   "id": "7d1e8d0c-be6a-4dc0-9c14-2aa29ffd21c6",
   "metadata": {},
   "source": [
    "9.write a program to convert user input from string to integer,float and boolyn type."
   ]
  },
  {
   "cell_type": "code",
   "execution_count": 83,
   "id": "9094523d-ff08-4f4d-89f6-97a0eccadf63",
   "metadata": {},
   "outputs": [
    {
     "data": {
      "text/plain": [
       "str"
      ]
     },
     "execution_count": 83,
     "metadata": {},
     "output_type": "execute_result"
    }
   ],
   "source": [
    "a = (\"5\")\n",
    "type(a)"
   ]
  },
  {
   "cell_type": "code",
   "execution_count": 101,
   "id": "c099f5f2-40c8-43d1-8d40-25a682e21162",
   "metadata": {},
   "outputs": [
    {
     "data": {
      "text/plain": [
       "5"
      ]
     },
     "execution_count": 101,
     "metadata": {},
     "output_type": "execute_result"
    }
   ],
   "source": [
    "int(a)"
   ]
  },
  {
   "cell_type": "code",
   "execution_count": 103,
   "id": "69dfebda-0909-4464-8d1e-e74a1e12386c",
   "metadata": {},
   "outputs": [
    {
     "data": {
      "text/plain": [
       "5.0"
      ]
     },
     "execution_count": 103,
     "metadata": {},
     "output_type": "execute_result"
    }
   ],
   "source": [
    "float(a)"
   ]
  },
  {
   "cell_type": "code",
   "execution_count": 105,
   "id": "15acaf15-c216-48b6-8d5e-689759e13898",
   "metadata": {},
   "outputs": [
    {
     "data": {
      "text/plain": [
       "True"
      ]
     },
     "execution_count": 105,
     "metadata": {},
     "output_type": "execute_result"
    }
   ],
   "source": [
    "bool(a)"
   ]
  },
  {
   "cell_type": "raw",
   "id": "41f7e7ac-f2e8-4fba-925f-b6acf41c27f4",
   "metadata": {},
   "source": [
    "like above u see i coverted strin into all integer,float,boolyn type"
   ]
  },
  {
   "cell_type": "raw",
   "id": "de52fbaa-25af-49c4-86a5-c00bb7940eeb",
   "metadata": {},
   "source": [
    "10.write a code to demonstrate type casting with list elements."
   ]
  },
  {
   "cell_type": "code",
   "execution_count": 137,
   "id": "f9618030-5ce5-4cdc-9930-8fbf27a6a9fb",
   "metadata": {},
   "outputs": [
    {
     "data": {
      "text/plain": [
       "[1, 1, 3, 4]"
      ]
     },
     "execution_count": 137,
     "metadata": {},
     "output_type": "execute_result"
    }
   ],
   "source": [
    "list=[\"1\",\"2\",3,4]\n",
    "list[0]=int(list[0])\n",
    "list[1]=int(list[0])\n",
    "list"
   ]
  },
  {
   "cell_type": "raw",
   "id": "cfe28ead-c487-4cc6-8343-261545ed2324",
   "metadata": {},
   "source": [
    "here we do type casting with list elements"
   ]
  },
  {
   "cell_type": "raw",
   "id": "38005b75-6a1b-40ee-bdf4-c8c433ea6960",
   "metadata": {},
   "source": [
    "11.write a program which check if a number is positive,negative or zero"
   ]
  },
  {
   "cell_type": "code",
   "execution_count": 139,
   "id": "07219db2-2181-4964-ab5c-8e388756511b",
   "metadata": {},
   "outputs": [
    {
     "name": "stdout",
     "output_type": "stream",
     "text": [
      "the number is positive\n"
     ]
    }
   ],
   "source": [
    "a = 5\n",
    "b = 10\n",
    "if a<b:\n",
    "    print(\"the number is positive\")\n",
    "elif a>b:\n",
    "    print(\"the number is negative\")\n",
    "else:\n",
    "    print(\"the number is zero\")\n"
   ]
  },
  {
   "cell_type": "raw",
   "id": "db59e596-9ea8-45ab-8a86-f45da8eb5416",
   "metadata": {},
   "source": [
    "12.write a loop to print number from 1 to 10."
   ]
  },
  {
   "cell_type": "code",
   "execution_count": 1,
   "id": "4a096a1b-36b7-49c3-bc5f-c2d068ba9ff7",
   "metadata": {
    "scrolled": true
   },
   "outputs": [
    {
     "name": "stdout",
     "output_type": "stream",
     "text": [
      "1\n",
      "2\n",
      "3\n",
      "4\n",
      "5\n",
      "6\n",
      "7\n",
      "8\n",
      "9\n",
      "10\n"
     ]
    }
   ],
   "source": [
    "n = 11\n",
    "i = 1\n",
    "while i<n:\n",
    "    print(i)\n",
    "    i=i+1"
   ]
  },
  {
   "cell_type": "raw",
   "id": "596499d5-fd83-4f8e-b444-51205f49b056",
   "metadata": {},
   "source": [
    "13.write a program to find the sum of all even number between 1 to 50"
   ]
  },
  {
   "cell_type": "code",
   "execution_count": 3,
   "id": "11eb4f62-c2a4-4c22-a2ee-c71c1cc35a88",
   "metadata": {},
   "outputs": [
    {
     "data": {
      "text/plain": [
       "650"
      ]
     },
     "execution_count": 3,
     "metadata": {},
     "output_type": "execute_result"
    }
   ],
   "source": [
    "sum(range(2,51,2))"
   ]
  },
  {
   "cell_type": "raw",
   "id": "3088a432-cb97-4ccc-9220-d9c8ad6da404",
   "metadata": {},
   "source": [
    "14.write a program to reverse a string using a while loop."
   ]
  },
  {
   "cell_type": "code",
   "execution_count": 5,
   "id": "e1e768ec-3da1-4dc8-bef8-0d07e48ef4e5",
   "metadata": {},
   "outputs": [
    {
     "name": "stdout",
     "output_type": "stream",
     "text": [
      "redniwrug\n"
     ]
    }
   ],
   "source": [
    "string = \"gurwinder\"\n",
    "rev_str = \"\"\n",
    "length = len(string)-1\n",
    "while length >=0:\n",
    "    rev_str += string [length]\n",
    "    length -=1\n",
    "print(rev_str)"
   ]
  },
  {
   "cell_type": "raw",
   "id": "30720baf-669a-4f0c-88f7-7887e4eab1ec",
   "metadata": {},
   "source": [
    "15.write a pyton program to calculate the factorial of a number provided by the user using a while loop"
   ]
  },
  {
   "cell_type": "code",
   "execution_count": null,
   "id": "bb729558-bff3-4be4-933d-cd7287a56529",
   "metadata": {},
   "outputs": [],
   "source": [
    "num=int(input(\"enter the number:\"))\n",
    "fact=1\n",
    "for i in range(1,num+1):\n",
    "    fact=fact*i\n",
    "print\n"
   ]
  }
 ],
 "metadata": {
  "kernelspec": {
   "display_name": "Python 3 (ipykernel)",
   "language": "python",
   "name": "python3"
  },
  "language_info": {
   "codemirror_mode": {
    "name": "ipython",
    "version": 3
   },
   "file_extension": ".py",
   "mimetype": "text/x-python",
   "name": "python",
   "nbconvert_exporter": "python",
   "pygments_lexer": "ipython3",
   "version": "3.12.7"
  }
 },
 "nbformat": 4,
 "nbformat_minor": 5
}
